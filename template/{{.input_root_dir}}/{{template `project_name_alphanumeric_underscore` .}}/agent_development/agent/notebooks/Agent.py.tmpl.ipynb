{
 "cells": [
  {
   "cell_type": "code",
   "execution_count": 0,
   "metadata": {
    "application/vnd.databricks.v1+cell": {
     "cellMetadata": {
      "byteLimit": 2048000,
      "rowLimit": 10000
     },
     "inputWidgets": {},
     "nuid": "cc2d500a-b0ca-42e0-95ef-b0ce86849420",
     "showTitle": false,
     "tableResultSettingsMap": {},
     "title": ""
    }
   },
   "outputs": [],
   "source": [
    "%load_ext autoreload\n",
    "%autoreload 2\n",
    "# Enables autoreload; learn more at https://docs.databricks.com/en/files/workspace-modules.html#autoreload-for-python-modules\n",
    "# To disable autoreload; run %autoreload 0"
   ]
  },
  {
   "cell_type": "code",
   "execution_count": 0,
   "metadata": {
    "application/vnd.databricks.v1+cell": {
     "cellMetadata": {
      "byteLimit": 2048000,
      "rowLimit": 10000
     },
     "inputWidgets": {},
     "nuid": "3d9c6303-4978-4779-9f5b-bd5d7247d421",
     "showTitle": false,
     "tableResultSettingsMap": {},
     "title": ""
    }
   },
   "outputs": [],
   "source": [
    "################################################################################### \n",
    "# Agent Chain Creation\n",
    "#\n",
    "# This notebook shows an example of a RAG-based Agent with multiple retrievers.\n",
    "#\n",
    "# Parameters:\n",
    "# * uc_catalog (required)                     - Name of the Unity Catalog \n",
    "# * schema (required)                         - Name of the schema inside Unity Catalog \n",
    "# * vector_search_endpoint (required)         - Name of the vector search endpoint\n",
    "# * vector_search_index (required)            - Name of the vector search index\n",
    "# * model_serving_endpopint (required)        - Name of the model endpoint to serve\n",
    "# * agent_model_endpoint (required)           - Name and Identifier of the agent model endpoint\n",
    "# * experiment (required)                     - Name of the experiment to register the run under\n",
    "# * registered_model (required)               - Name of the model to register in mlflow\n",
    "# * max_words (required)                      - Maximum number of words to return in the response\n",
    "#\n",
    "# Widgets:\n",
    "# * Unity Catalog: Text widget to input the name of the Unity Catalog\n",
    "# * Schema: Text widget to input the name of the database inside the Unity Catalog\n",
    "# * Vector Search endpoint: Text widget to input the name of the vector search endpoint\n",
    "# * Vector search index: Text widget to input the name of the vector search index\n",
    "# * Agent model endppoint: Text widget to input the name of the agent model endpoint\n",
    "# * Experiment: Text widget to input the name of the experiment to register the run under\n",
    "# * Registered model name: Text widget to input the name of the model to register in mlflow\n",
    "# * Max words: Text widget to input the maximum integer number of words to return in the response\n",
    "#\n",
    "# Usage:\n",
    "# 1. Set the appropriate values for the widgets.\n",
    "# 2. Run the pipeline to create and register an agent with tool calling.\n",
    "#\n",
    "##################################################################################"
   ]
  },
  {
   "cell_type": "code",
   "execution_count": 0,
   "metadata": {
    "application/vnd.databricks.v1+cell": {
     "cellMetadata": {
      "byteLimit": 2048000,
      "rowLimit": 10000
     },
     "inputWidgets": {},
     "nuid": "8281b6b5-35f7-40eb-af83-fed8f7164c07",
     "showTitle": false,
     "tableResultSettingsMap": {},
     "title": ""
    }
   },
   "outputs": [],
   "source": [
    "%pip install -qqqq -r ../agent_requirements.txt"
   ]
  },
  {
   "cell_type": "code",
   "execution_count": 0,
   "metadata": {
    "application/vnd.databricks.v1+cell": {
     "cellMetadata": {
      "byteLimit": 2048000,
      "rowLimit": 10000
     },
     "inputWidgets": {},
     "nuid": "fb632ce7-cfc5-432e-8493-19be7330c47b",
     "showTitle": false,
     "tableResultSettingsMap": {},
     "title": ""
    }
   },
   "outputs": [],
   "source": [
    "# List of input args needed to run this notebook as a job\n",
    "# Provide them via DB widgets or notebook arguments\n",
    "\n",
    "# A Unity Catalog containing the preprocessed data\n",
    "dbutils.widgets.text(\n",
    "    \"uc_catalog\",\n",
    "    \"ai_agent_stacks\",\n",
    "    label=\"Unity Catalog\",\n",
    ")\n",
    "# Name of schema\n",
    "dbutils.widgets.text(\n",
    "    \"schema\",\n",
    "    \"ai_agent_ops\",\n",
    "    label=\"Schema\",\n",
    ")\n",
    "# Name of vector search endpoint containing the preprocessed index\n",
    "dbutils.widgets.text(\n",
    "    \"vector_search_endpoint\",\n",
    "    \"ai_agent_endpoint\",\n",
    "    label=\"Vector Search endpoint\",\n",
    ")\n",
    "# Name of vector search index containing the preprocessed index\n",
    "dbutils.widgets.text(\n",
    "    \"vector_search_index\",\n",
    "    \"databricks_documentation_vs_index\",\n",
    "    label=\"Vector Search index\",\n",
    ")\n",
    "# Foundational model to use\n",
    "dbutils.widgets.text(\n",
    "    \"agent_model_endpoint\",\n",
    "    \"databricks-meta-llama-3-3-70b-instruct\",\n",
    "    label=\"Agent model name\",\n",
    ")\n",
    "# Name of experiment to register under in mlflow\n",
    "dbutils.widgets.text(\n",
    "    \"experiment\",\n",
    "    \"agent_function_chatbot\",\n",
    "    label=\"Experiment name\",\n",
    ")\n",
    "# Name of model to register in mlflow\n",
    "dbutils.widgets.text(\n",
    "    \"registered_model\",\n",
    "    \"agent_function_chatbot\",\n",
    "    label=\"Registered model name\",\n",
    ")\n",
    "# Max words for summarization\n",
    "dbutils.widgets.text(\n",
    "    \"max_words\",\n",
    "    \"20\",\n",
    "    label=\"Max Words\",\n",
    ")\n",
    "# Model alias\n",
    "dbutils.widgets.text(\n",
    "    \"model_alias\",\n",
    "    \"agent_latest\",\n",
    "    label=\"Model Alias\",\n",
    ")"
   ]
  },
  {
   "cell_type": "code",
   "execution_count": 0,
   "metadata": {
    "application/vnd.databricks.v1+cell": {
     "cellMetadata": {
      "byteLimit": 2048000,
      "rowLimit": 10000
     },
     "inputWidgets": {},
     "nuid": "4bf8fca6-1db4-4d31-974b-20cb2bfc06d3",
     "showTitle": false,
     "tableResultSettingsMap": {},
     "title": ""
    }
   },
   "outputs": [],
   "source": [
    "import os\n",
    "notebook_path =  '/Workspace/' + os.path.dirname(dbutils.notebook.entry_point.getDbutils().notebook().getContext().notebookPath().get())\n",
    "%cd $notebook_path\n",
    "%cd ../tools"
   ]
  },
  {
   "cell_type": "code",
   "execution_count": 0,
   "metadata": {
    "application/vnd.databricks.v1+cell": {
     "cellMetadata": {
      "byteLimit": 2048000,
      "rowLimit": 10000
     },
     "inputWidgets": {},
     "nuid": "4c336f0b-6324-4c92-bdc2-385fa86349e1",
     "showTitle": false,
     "tableResultSettingsMap": {},
     "title": ""
    }
   },
   "outputs": [],
   "source": [
    "uc_catalog = dbutils.widgets.get(\"uc_catalog\")\n",
    "schema = dbutils.widgets.get(\"schema\")\n",
    "vector_search_endpoint = dbutils.widgets.get(\"vector_search_endpoint\")\n",
    "vector_search_index = dbutils.widgets.get(\"vector_search_index\")\n",
    "agent_model_endpoint = dbutils.widgets.get(\"agent_model_endpoint\")\n",
    "experiment = dbutils.widgets.get(\"experiment\")\n",
    "registered_model = dbutils.widgets.get(\"registered_model\")\n",
    "max_words = dbutils.widgets.get(\"max_words\")\n",
    "model_alias = dbutils.widgets.get(\"model_alias\")\n",
    "\n",
    "assert uc_catalog != \"\", \"uc_catalog notebook parameter must be specified\"\n",
    "assert schema != \"\", \"schema notebook parameter must be specified\"\n",
    "assert vector_search_endpoint != \"\", \"vector_search_endpoint notebook parameter must be specified\"\n",
    "assert vector_search_index != \"\", \"vector_search_index notebook parameter must be specified\"\n",
    "assert agent_model_endpoint != \"\", \"agent_model_endpoint notebook parameter must be specified\"\n",
    "assert experiment != \"\", \"experiment notebook parameter must be specified\"\n",
    "assert registered_model != \"\", \"registered_model notebook parameter must be specified\"\n",
    "assert max_words != \"\", \"max_words notebook parameter must be specified\"\n",
    "assert model_alias != \"\", \"model_alias notebook parameter must be specified\""
   ]
  },
  {
   "cell_type": "code",
   "execution_count": 0,
   "metadata": {
    "application/vnd.databricks.v1+cell": {
     "cellMetadata": {
      "byteLimit": 2048000,
      "rowLimit": 10000
     },
     "inputWidgets": {},
     "nuid": "c705da2b-2f04-4835-87d8-400751910289",
     "showTitle": true,
     "tableResultSettingsMap": {},
     "title": "Create a DatabricksFunctionClient and set as default"
    }
   },
   "outputs": [],
   "source": [
    "from unitycatalog.ai.core.base import set_uc_function_client\n",
    "from unitycatalog.ai.core.databricks import DatabricksFunctionClient\n",
    "\n",
    "client = DatabricksFunctionClient()\n",
    "\n",
    "# sets the default uc function client\n",
    "set_uc_function_client(client)\n"
   ]
  },
  {
   "cell_type": "code",
   "execution_count": 0,
   "metadata": {
    "application/vnd.databricks.v1+cell": {
     "cellMetadata": {
      "byteLimit": 2048000,
      "rowLimit": 10000
     },
     "inputWidgets": {},
     "nuid": "d1269f94-d14b-4ce4-bc4f-51a9214b0761",
     "showTitle": true,
     "tableResultSettingsMap": {},
     "title": "Function: execute_python_code"
    }
   },
   "outputs": [],
   "source": [
    "from ai_tools import execute_python_code\n",
    "\n",
    "function_info = client.create_python_function(\n",
    "    func=execute_python_code, catalog=uc_catalog, schema=schema, replace=True\n",
    ")\n",
    "python_execution_function_name = function_info.full_name\n",
    "\n",
    "# test execution\n",
    "client.execute_function(python_execution_function_name, {\"code\": \"print(1+1)\"})"
   ]
  },
  {
   "cell_type": "code",
   "execution_count": 0,
   "metadata": {
    "application/vnd.databricks.v1+cell": {
     "cellMetadata": {
      "byteLimit": 2048000,
      "rowLimit": 10000
     },
     "inputWidgets": {},
     "nuid": "77ca7aa8-3884-476f-89af-e89adc604114",
     "showTitle": true,
     "tableResultSettingsMap": {},
     "title": "Function: ai_function_name_sql"
    }
   },
   "outputs": [],
   "source": [
    "from ai_tools import ask_ai_function\n",
    "\n",
    "ask_ai_function_name = f\"{uc_catalog}.{schema}.ask_ai\"\n",
    "\n",
    "client.create_function(sql_function_body = ask_ai_function.format(ask_ai_function_name = ask_ai_function_name))\n",
    "result = client.execute_function(ask_ai_function_name, {\"question\": \"What is MLflow?\"})\n",
    "result.value"
   ]
  },
  {
   "cell_type": "code",
   "execution_count": 0,
   "metadata": {
    "application/vnd.databricks.v1+cell": {
     "cellMetadata": {
      "byteLimit": 2048000,
      "rowLimit": 10000
     },
     "inputWidgets": {},
     "nuid": "8efcccbe-eabd-49b6-af6f-3b7cad55d80e",
     "showTitle": true,
     "tableResultSettingsMap": {},
     "title": "Function: summarization_function"
    }
   },
   "outputs": [],
   "source": [
    "from ai_tools import summarization_function\n",
    "\n",
    "summarization_function_name = f\"{uc_catalog}.{schema}.summarize\"\n",
    "\n",
    "client.create_function(sql_function_body = summarization_function.format(summarization_function_name = summarization_function_name))\n",
    "# test execution\n",
    "client.execute_function(summarization_function_name, {\"text\": result.value, \"max_words\": int(max_words)})"
   ]
  },
  {
   "cell_type": "code",
   "execution_count": 0,
   "metadata": {
    "application/vnd.databricks.v1+cell": {
     "cellMetadata": {
      "byteLimit": 2048000,
      "rowLimit": 10000
     },
     "inputWidgets": {},
     "nuid": "4c4c27d5-6bb9-446f-aadb-077339343d17",
     "showTitle": true,
     "tableResultSettingsMap": {},
     "title": "Function: translate_function"
    }
   },
   "outputs": [],
   "source": [
    "from ai_tools import translate_function\n",
    "\n",
    "translate_function_name = f\"{uc_catalog}.{schema}.translate\"\n",
    "\n",
    "client.create_function(sql_function_body = translate_function.format(translate_function_name = translate_function_name))\n",
    "# test execution\n",
    "client.execute_function(translate_function_name, {\"content\": \"What is MLflow?\", \"language\": \"es\"})"
   ]
  },
  {
   "cell_type": "code",
   "execution_count": 0,
   "metadata": {
    "application/vnd.databricks.v1+cell": {
     "cellMetadata": {
      "byteLimit": 2048000,
      "rowLimit": 10000
     },
     "inputWidgets": {},
     "nuid": "664e927c-85cd-4c5b-8543-384595269178",
     "showTitle": true,
     "tableResultSettingsMap": {},
     "title": "Define UC toolkit"
    }
   },
   "outputs": [],
   "source": [
    "from unitycatalog.ai.langchain.toolkit import UCFunctionToolkit\n",
    "\n",
    "# Add tools here\n",
    "toolkit = UCFunctionToolkit(\n",
    "    function_names=[\n",
    "        python_execution_function_name,\n",
    "        # ask_ai_function_name, # commenting out to showcase the retriever\n",
    "        summarization_function_name,\n",
    "        translate_function_name,\n",
    "    ]\n",
    ")\n",
    "\n",
    "uc_tools = toolkit.tools\n",
    "uc_tools"
   ]
  },
  {
   "cell_type": "code",
   "execution_count": 0,
   "metadata": {
    "application/vnd.databricks.v1+cell": {
     "cellMetadata": {
      "byteLimit": 2048000,
      "rowLimit": 10000
     },
     "inputWidgets": {},
     "nuid": "0edddc79-7ce3-49fd-b791-50e354e40539",
     "showTitle": true,
     "tableResultSettingsMap": {},
     "title": "Import retriever_function"
    }
   },
   "outputs": [],
   "source": [
    "from ai_tools import retrieve_function\n",
    "\n",
    "os.environ[\"UC_CATALOG\"] = uc_catalog # Set these before function execution\n",
    "os.environ[\"SCHEMA\"] = schema\n",
    "os.environ[\"VECTOR_SEARCH_INDEX\"] = vector_search_index\n",
    "\n",
    "# retrieve_function(\"what is mlflow?\") # Remove @tool from the retrieve_function in ai_tools.py to test"
   ]
  },
  {
   "cell_type": "code",
   "execution_count": 0,
   "metadata": {
    "application/vnd.databricks.v1+cell": {
     "cellMetadata": {
      "byteLimit": 2048000,
      "rowLimit": 10000
     },
     "inputWidgets": {},
     "nuid": "e31cd731-178c-4144-b607-65ae39102793",
     "showTitle": true,
     "tableResultSettingsMap": {},
     "title": "Initialize MLflow"
    }
   },
   "outputs": [],
   "source": [
    "import os\n",
    "import mlflow\n",
    "\n",
    "mlflow.langchain.autolog()"
   ]
  },
  {
   "cell_type": "code",
   "execution_count": 0,
   "metadata": {
    "application/vnd.databricks.v1+cell": {
     "cellMetadata": {
      "byteLimit": 2048000,
      "rowLimit": 10000
     },
     "inputWidgets": {},
     "nuid": "f745fb18-5cef-494d-8de6-6a8579a5e2bf",
     "showTitle": true,
     "tableResultSettingsMap": {},
     "title": "Use the tools in Langgraph"
    }
   },
   "outputs": [],
   "source": [
    "from typing import Literal\n",
    "from langgraph.graph import END, START, MessagesState, StateGraph\n",
    "from langgraph.prebuilt import ToolNode\n",
    "from databricks_langchain import ChatDatabricks\n",
    "\n",
    "tools = uc_tools + [retrieve_function]\n",
    "\n",
    "tool_node = ToolNode(tools)\n",
    "\n",
    "# Example for Databricks foundation model endpoints\n",
    "model = ChatDatabricks(\n",
    "    endpoint=f\"{agent_model_endpoint}\",  # Foundation Model endpoint name\n",
    ").bind_tools(tools)\n",
    "\n",
    "# Define the function that determines whether to continue or not\n",
    "def should_continue(state: MessagesState) -> Literal[\"tools\", END]:\n",
    "    messages = state[\"messages\"]\n",
    "    last_message = messages[-1]\n",
    "    # If the LLM makes a tool call, then we route to the \"tools\" node\n",
    "    if last_message.tool_calls:\n",
    "        return \"tools\"\n",
    "    # Otherwise, we stop (reply to the user)\n",
    "    return END\n",
    "\n",
    "\n",
    "# Define the function that calls the model\n",
    "def call_model(state: MessagesState):\n",
    "    messages = state[\"messages\"]\n",
    "    response = model.invoke(messages)\n",
    "    # We return a list, because this will get added to the existing list\n",
    "    return {\"messages\": [response]}\n",
    "\n",
    "\n",
    "# Define a new graph\n",
    "workflow = StateGraph(MessagesState)\n",
    "\n",
    "# Define the two nodes we will cycle between\n",
    "workflow.add_node(\"agent\", call_model)\n",
    "workflow.add_node(\"tools\", tool_node)\n",
    "\n",
    "# Set the entrypoint as `agent`\n",
    "# This means that this node is the first one called\n",
    "workflow.add_edge(START, \"agent\")\n",
    "\n",
    "# We now add a conditional edge\n",
    "workflow.add_conditional_edges(\n",
    "    # First, we define the start node. We use `agent`.\n",
    "    # This means these are the edges taken after the `agent` node is called.\n",
    "    \"agent\",\n",
    "    # Next, we pass in the function that will determine which node is called next.\n",
    "    should_continue,\n",
    ")\n",
    "\n",
    "# We now add a normal edge from `tools` to `agent`.\n",
    "# This means that after `tools` is called, `agent` node is called next.\n",
    "workflow.add_edge(\"tools\", \"agent\")\n",
    "\n",
    "app = workflow.compile()"
   ]
  },
  {
   "cell_type": "code",
   "execution_count": 0,
   "metadata": {
    "application/vnd.databricks.v1+cell": {
     "cellMetadata": {
      "byteLimit": 2048000,
      "rowLimit": 10000
     },
     "inputWidgets": {},
     "nuid": "16bd6128-9d56-43a4-8b22-8355d38c272e",
     "showTitle": false,
     "tableResultSettingsMap": {},
     "title": ""
    }
   },
   "outputs": [],
   "source": [
    "final_state = app.invoke(\n",
    "    {\n",
    "        \"messages\": [\n",
    "            {\n",
    "                \"role\": \"user\",\n",
    "                \"content\": \"Retrieve the documentation for MLflow. Keep the response concise and reply in Spanish. Try using as many tools as possible\",\n",
    "            }\n",
    "        ]\n",
    "    },\n",
    ")\n",
    "response = final_state[\"messages\"][-1].content\n",
    "response"
   ]
  },
  {
   "cell_type": "code",
   "execution_count": 0,
   "metadata": {
    "application/vnd.databricks.v1+cell": {
     "cellMetadata": {
      "byteLimit": 2048000,
      "rowLimit": 10000
     },
     "inputWidgets": {},
     "nuid": "ce33ce0e-fd98-4dff-9b78-7a808ddbd0db",
     "showTitle": false,
     "tableResultSettingsMap": {},
     "title": ""
    }
   },
   "outputs": [],
   "source": [
    "final_state = app.invoke(\n",
    "    {\n",
    "        \"messages\": [\n",
    "            {\n",
    "                \"role\": \"user\",\n",
    "                \"content\": f\"Remember to always try using tools. Can you convert the following explanation to English? {response}\",\n",
    "            }\n",
    "        ]\n",
    "    },\n",
    ")\n",
    "final_state[\"messages\"][-1].content"
   ]
  },
  {
   "cell_type": "code",
   "execution_count": 0,
   "metadata": {
    "application/vnd.databricks.v1+cell": {
     "cellMetadata": {
      "byteLimit": 2048000,
      "rowLimit": 10000
     },
     "inputWidgets": {},
     "nuid": "d06df728-037d-44fe-93d9-d8e94f96de26",
     "showTitle": false,
     "tableResultSettingsMap": {},
     "title": ""
    }
   },
   "outputs": [],
   "source": [
    "final_state = app.invoke(\n",
    "    {\"messages\": [{\"role\": \"user\", \"content\": \"What is MLflow?\"}]},\n",
    ")\n",
    "final_state[\"messages\"][-1].content"
   ]
  },
  {
   "cell_type": "code",
   "execution_count": 0,
   "metadata": {
    "application/vnd.databricks.v1+cell": {
     "cellMetadata": {
      "byteLimit": 2048000,
      "rowLimit": 10000
     },
     "inputWidgets": {},
     "nuid": "a838b126-a247-4fa2-b4e9-88f5e14c46db",
     "showTitle": true,
     "tableResultSettingsMap": {},
     "title": "Log the model using MLflow"
    }
   },
   "outputs": [],
   "source": [
    "%%writefile app.py\n",
    "from mlflow.models import set_model\n",
    "from unitycatalog.ai.core.base import set_uc_function_client\n",
    "from unitycatalog.ai.core.databricks import DatabricksFunctionClient\n",
    "from langgraph.prebuilt import ToolNode\n",
    "from langgraph.checkpoint.memory import MemorySaver\n",
    "from langgraph.graph import END, START, StateGraph, MessagesState\n",
    "from typing import Annotated, Literal, TypedDict\n",
    "from unitycatalog.ai.langchain.toolkit import UCFunctionToolkit\n",
    "from databricks_langchain import ChatDatabricks, VectorSearchRetrieverTool\n",
    "from langchain_core.tools import tool\n",
    "import os\n",
    "\n",
    "uc_catalog = \"llmops_stacks\"\n",
    "schema = \"ai_agent_ops\"\n",
    "vector_search_endpoint = \"databricks_documentation_vs_index\"\n",
    "\n",
    "python_execution_function_name = f\"{uc_catalog}.{schema}.execute_python_code\"\n",
    "ask_ai_function_name = f\"{uc_catalog}.{schema}.ask_ai\"\n",
    "summarization_function_name = f\"{uc_catalog}.{schema}.summarize\"\n",
    "translate_function_name = f\"{uc_catalog}.{schema}.translate\"\n",
    "\n",
    "# Retriever\n",
    "@tool\n",
    "def retrieve_function(query: str) -> str:\n",
    "    \"\"\"Retrieve from Databricks Vector Search using the query.\"\"\"\n",
    "\n",
    "    index = f\"{uc_catalog}.{schema}.databricks_documentation_vs_index\"\n",
    "\n",
    "    # Define the Vector Search Retriever Tool\n",
    "    vs_tool = VectorSearchRetrieverTool(\n",
    "        index_name=index,  # Replace with your index name\n",
    "        tool_name=\"vector_search_retriever\",\n",
    "        tool_description=\"Retrieves information from Databricks Vector Search.\",\n",
    "        embedding_model_name=\"databricks-bge-large-en\",  # Embedding model\n",
    "        num_results=1,  # Number of results to return\n",
    "        columns=[\"url\", \"content\"],  # Columns to include in search results\n",
    "        query_type=\"ANN\"  # Query type (ANN or HYBRID)\n",
    "    )\n",
    "\n",
    "    response = vs_tool.invoke(query)\n",
    "    return f\"{response[0].metadata['url']}  \\n{response[0].page_content}\"\n",
    "\n",
    "# Add tools here\n",
    "toolkit = UCFunctionToolkit(\n",
    "    function_names=[\n",
    "        python_execution_function_name,\n",
    "        # ask_ai_function_name, # commenting out to showcase retriever\n",
    "        summarization_function_name,\n",
    "        translate_function_name,\n",
    "    ]\n",
    ")\n",
    "uc_tools = toolkit.tools\n",
    "\n",
    "tools = uc_tools + [retrieve_function]\n",
    "\n",
    "tool_node = ToolNode(tools)\n",
    "\n",
    "model = ChatDatabricks(\n",
    "    endpoint=\"databricks-meta-llama-3-3-70b-instruct\",  # Foundation Model endpoint name\n",
    ").bind_tools(tools)\n",
    "\n",
    "def should_continue(state: MessagesState) -> Literal[\"tools\", END]:\n",
    "    messages = state['messages']\n",
    "    last_message = messages[-1]\n",
    "    if last_message.tool_calls:\n",
    "        return \"tools\"\n",
    "    return END\n",
    "\n",
    "def call_model(state: MessagesState):\n",
    "    messages = state['messages']\n",
    "    response = model.invoke(messages)\n",
    "    return {\"messages\": [response]}\n",
    "\n",
    "workflow = StateGraph(MessagesState)\n",
    "workflow.add_node(\"agent\", call_model)\n",
    "workflow.add_node(\"tools\", tool_node)\n",
    "workflow.add_edge(START, \"agent\")\n",
    "workflow.add_conditional_edges(\"agent\", should_continue)\n",
    "workflow.add_edge(\"tools\", 'agent')\n",
    "\n",
    "app = workflow.compile()\n",
    "set_model(app)"
   ]
  },
  {
   "cell_type": "code",
   "execution_count": 0,
   "metadata": {
    "application/vnd.databricks.v1+cell": {
     "cellMetadata": {
      "byteLimit": 2048000,
      "rowLimit": 10000
     },
     "inputWidgets": {},
     "nuid": "5a61be85-ad1c-49d8-b66e-e9091cafceb3",
     "showTitle": false,
     "tableResultSettingsMap": {},
     "title": ""
    }
   },
   "outputs": [],
   "source": [
    "import mlflow\n",
    "from mlflow.models import infer_signature\n",
    "\n",
    "# temp workaround as the current output format is not supported by model signature\n",
    "input_example = {\"messages\": [{\"role\": \"user\", \"content\": \"What is MLflow?\"}]}\n",
    "signature = infer_signature(input_example, \"MLflow is an open-source platform that streamlines the machine learning lifecycle by providing tools for experiment tracking, model packaging, versioning, and deployment.\")\n",
    "\n",
    "mlflow.set_experiment(experiment)\n",
    "\n",
    "with mlflow.start_run():\n",
    "    model_info = mlflow.langchain.log_model(\n",
    "        # Pass the path to the saved model file\n",
    "        \"app.py\",\n",
    "        \"model\",\n",
    "        input_example={\"messages\": [{\"role\": \"user\", \"content\": \"What is MLflow?\"}]},\n",
    "        signature=signature,\n",
    "        pip_requirements=[\n",
    "            \"unitycatalog-langchain[databricks]==0.1.1\",\n",
    "            \"databricks-vectorsearch==0.50\",\n",
    "            \"databricks-langchain==0.4.0\",\n",
    "            \"langgraph==0.3.5\",\n",
    "            \"mlflow==2.20.3\",\n",
    "        ],\n",
    "        registered_model_name=f\"{uc_catalog}.{schema}.{registered_model}\"  # Replace with your own model name\n",
    "    )"
   ]
  },
  {
   "cell_type": "code",
   "execution_count": 0,
   "metadata": {
    "application/vnd.databricks.v1+cell": {
     "cellMetadata": {
      "byteLimit": 2048000,
      "rowLimit": 10000
     },
     "inputWidgets": {},
     "nuid": "ab0bae0e-6954-41a3-8b2a-1d29bbad8a66",
     "showTitle": true,
     "tableResultSettingsMap": {},
     "title": "Set Alias"
    }
   },
   "outputs": [],
   "source": [
    "from mlflow import MlflowClient\n",
    "\n",
    "# Initialize MLflow client\n",
    "client = MlflowClient()\n",
    "\n",
    "# Set an alias for version 1 of the registered model to retrieve it for model serving\n",
    "client.set_registered_model_alias(f\"{uc_catalog}.{schema}.{registered_model}\", model_alias, 1)\n"
   ]
  },
  {
   "cell_type": "code",
   "execution_count": 0,
   "metadata": {
    "application/vnd.databricks.v1+cell": {
     "cellMetadata": {
      "byteLimit": 2048000,
      "rowLimit": 10000
     },
     "inputWidgets": {},
     "nuid": "8c540b5d-915b-4a68-8c49-15c0b78e8157",
     "showTitle": true,
     "tableResultSettingsMap": {},
     "title": "Validate the model locally prior to serving"
    }
   },
   "outputs": [],
   "source": [
    "from mlflow.models import convert_input_example_to_serving_input, validate_serving_input\n",
    "\n",
    "serving_input = convert_input_example_to_serving_input(\n",
    "    {\"messages\": [{\"role\": \"user\", \"content\": \"What is MLflow?\"}]}\n",
    ")\n",
    "validate_serving_input(model_info.model_uri, serving_input=serving_input)"
   ]
  }
 ],
 "metadata": {
  "application/vnd.databricks.v1+notebook": {
   "computePreferences": null,
   "dashboards": [],
   "environmentMetadata": {
    "base_environment": "",
    "environment_version": "2"
   },
   "inputWidgetPreferences": null,
   "language": "python",
   "notebookMetadata": {
    "mostRecentlyExecutedCommandWithImplicitDF": {
     "commandId": 3360646499860561,
     "dataframes": [
      "_sqldf"
     ]
    },
    "pythonIndentUnit": 4
   },
   "notebookName": "Agent.py.tmpl",
   "widgets": {
    "agent_model_endpoint": {
     "currentValue": "databricks-meta-llama-3-3-70b-instruct",
     "nuid": "76d25c0c-ca48-4467-913c-26933d86be6e",
     "typedWidgetInfo": {
      "autoCreated": false,
      "defaultValue": "databricks-meta-llama-3-3-70b-instruct",
      "label": "Agent model name",
      "name": "agent_model_endpoint",
      "options": {
       "widgetDisplayType": "Text",
       "validationRegex": null
      },
      "parameterDataType": "String"
     },
     "widgetInfo": {
      "widgetType": "text",
      "defaultValue": "databricks-meta-llama-3-3-70b-instruct",
      "label": "Agent model name",
      "name": "agent_model_endpoint",
      "options": {
       "widgetType": "text",
       "autoCreated": null,
       "validationRegex": null
      }
     }
    },
    "max_words": {
     "currentValue": "20",
     "nuid": "7ad0afd2-e2c8-46ca-a4a0-cbe0be0bb6ce",
     "typedWidgetInfo": {
      "autoCreated": false,
      "defaultValue": "20",
      "label": "Max Words",
      "name": "max_words",
      "options": {
       "widgetDisplayType": "Text",
       "validationRegex": null
      },
      "parameterDataType": "String"
     },
     "widgetInfo": {
      "widgetType": "text",
      "defaultValue": "20",
      "label": "Max Words",
      "name": "max_words",
      "options": {
       "widgetType": "text",
       "autoCreated": null,
       "validationRegex": null
      }
     }
    },
    "registered_model": {
     "currentValue": "agent_function_chatbot",
     "nuid": "5e84457c-814c-463f-9b08-b2d837964f1c",
     "typedWidgetInfo": {
      "autoCreated": false,
      "defaultValue": "agent_function_chatbot",
      "label": "Registered model name",
      "name": "registered_model",
      "options": {
       "widgetDisplayType": "Text",
       "validationRegex": null
      },
      "parameterDataType": "String"
     },
     "widgetInfo": {
      "widgetType": "text",
      "defaultValue": "agent_function_chatbot",
      "label": "Registered model name",
      "name": "registered_model",
      "options": {
       "widgetType": "text",
       "autoCreated": null,
       "validationRegex": null
      }
     }
    },
    "schema": {
     "currentValue": "ai_agent_ops",
     "nuid": "1dbc6040-5ebe-4912-bf61-1ad8f11b7c44",
     "typedWidgetInfo": {
      "autoCreated": false,
      "defaultValue": "ai_agent_ops",
      "label": "Schema",
      "name": "schema",
      "options": {
       "widgetDisplayType": "Text",
       "validationRegex": null
      },
      "parameterDataType": "String"
     },
     "widgetInfo": {
      "widgetType": "text",
      "defaultValue": "ai_agent_ops",
      "label": "Schema",
      "name": "schema",
      "options": {
       "widgetType": "text",
       "autoCreated": null,
       "validationRegex": null
      }
     }
    },
    "uc_catalog": {
     "currentValue": "llmops_stacks",
     "nuid": "d8e6196e-7951-4b2b-94c3-6dd65eac78b2",
     "typedWidgetInfo": {
      "autoCreated": false,
      "defaultValue": "ai_agent_stacks",
      "label": "Unity Catalog",
      "name": "uc_catalog",
      "options": {
       "widgetDisplayType": "Text",
       "validationRegex": null
      },
      "parameterDataType": "String"
     },
     "widgetInfo": {
      "widgetType": "text",
      "defaultValue": "ai_agent_stacks",
      "label": "Unity Catalog",
      "name": "uc_catalog",
      "options": {
       "widgetType": "text",
       "autoCreated": null,
       "validationRegex": null
      }
     }
    },
    "vector_search_endpoint": {
     "currentValue": " test_model_serving",
     "nuid": "9c8fef48-f2c0-404c-aa72-51673a5ae2e2",
     "typedWidgetInfo": {
      "autoCreated": false,
      "defaultValue": "ai_agent_endpoint",
      "label": "Vector Search endpoint",
      "name": "vector_search_endpoint",
      "options": {
       "widgetDisplayType": "Text",
       "validationRegex": null
      },
      "parameterDataType": "String"
     },
     "widgetInfo": {
      "widgetType": "text",
      "defaultValue": "ai_agent_endpoint",
      "label": "Vector Search endpoint",
      "name": "vector_search_endpoint",
      "options": {
       "widgetType": "text",
       "autoCreated": null,
       "validationRegex": null
      }
     }
    },
    "vector_search_index": {
     "currentValue": "databricks_documentation_vs_index",
     "nuid": "5cc59050-b034-4add-8c12-b82a8df81534",
     "typedWidgetInfo": {
      "autoCreated": false,
      "defaultValue": "databricks_documentation_vs_index",
      "label": "Vector Search index",
      "name": "vector_search_index",
      "options": {
       "widgetDisplayType": "Text",
       "validationRegex": null
      },
      "parameterDataType": "String"
     },
     "widgetInfo": {
      "widgetType": "text",
      "defaultValue": "databricks_documentation_vs_index",
      "label": "Vector Search index",
      "name": "vector_search_index",
      "options": {
       "widgetType": "text",
       "autoCreated": null,
       "validationRegex": null
      }
     }
    }
   }
  },
  "language_info": {
   "name": "python"
  }
 },
 "nbformat": 4,
 "nbformat_minor": 0
}
