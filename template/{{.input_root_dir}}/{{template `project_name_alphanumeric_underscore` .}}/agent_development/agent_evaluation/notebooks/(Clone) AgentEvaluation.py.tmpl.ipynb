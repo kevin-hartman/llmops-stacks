{
 "cells": [
  {
   "cell_type": "code",
   "execution_count": 0,
   "metadata": {
    "application/vnd.databricks.v1+cell": {
     "cellMetadata": {
      "byteLimit": 2048000,
      "rowLimit": 10000
     },
     "inputWidgets": {},
     "nuid": "fb65f770-ac49-471f-9aa1-ee33d44e58fc",
     "showTitle": false,
     "tableResultSettingsMap": {},
     "title": ""
    }
   },
   "outputs": [],
   "source": [
    "%load_ext autoreload\n",
    "%autoreload 2\n",
    "# Enables autoreload; learn more at https://docs.databricks.com/en/files/workspace-modules.html#autoreload-for-python-modules\n",
    "# To disable autoreload; run %autoreload 0"
   ]
  },
  {
   "cell_type": "code",
   "execution_count": 0,
   "metadata": {
    "application/vnd.databricks.v1+cell": {
     "cellMetadata": {
      "byteLimit": 2048000,
      "rowLimit": 10000
     },
     "inputWidgets": {},
     "nuid": "a78d09f7-4043-48d7-ae19-c645c9837f7f",
     "showTitle": false,
     "tableResultSettingsMap": {},
     "title": ""
    }
   },
   "outputs": [],
   "source": [
    "##################################################################################\n",
    "# Agent Evaluation\n",
    "# \n",
    "# Notebook that downloads an evaluation dataset and evaluates the model using\n",
    "# llm-as-a-judge with the Databricks agent framework.\n",
    "#\n",
    "# Parameters:\n",
    "# * uc_catalog (required)           - Name of the Unity Catalog \n",
    "# * schema (required)               - Name of the schema inside Unity Catalog \n",
    "# * eval_table (required)           - Name of the table containing the evaluation dataset\n",
    "# * experiment (required)           - Name of the experiment to register the run under\n",
    "# * registered_model (required)     - Name of the model registered in mlflow\n",
    "# * model_version (required)        - Model verison to deploy\n",
    "#\n",
    "# Widgets:\n",
    "# * Unity Catalog: Text widget to input the name of the Unity Catalog\n",
    "# * Schema: Text widget to input the name of the database inside the Unity Catalog\n",
    "# * Evaluation Table: Text widget to input the name of the table containing the evaluation dataset\n",
    "# * Experiment: Text widget to input the name of the experiment to register the run under\n",
    "# * Registered model name: Text widget to input the name of the model to register in mlflow\n",
    "# * Model Vesion: Text widget to input the model version to deploy\n",
    "#\n",
    "# Usage:\n",
    "# 1. Set the appropriate values for the widgets.\n",
    "# 2. Run to evaluate your agent.\n",
    "#\n",
    "##################################################################################"
   ]
  },
  {
   "cell_type": "code",
   "execution_count": 0,
   "metadata": {
    "application/vnd.databricks.v1+cell": {
     "cellMetadata": {
      "byteLimit": 2048000,
      "rowLimit": 10000
     },
     "inputWidgets": {},
     "nuid": "f73b56c2-102b-4659-af04-9120b58e2ec2",
     "showTitle": false,
     "tableResultSettingsMap": {},
     "title": ""
    }
   },
   "outputs": [],
   "source": [
    "%pip install -qqqq -r ../../agent_requirements.txt.tmpl"
   ]
  },
  {
   "cell_type": "code",
   "execution_count": 0,
   "metadata": {
    "application/vnd.databricks.v1+cell": {
     "cellMetadata": {
      "byteLimit": 2048000,
      "rowLimit": 10000
     },
     "inputWidgets": {},
     "nuid": "fdcf425c-495c-423e-8eb0-9e9c483af489",
     "showTitle": false,
     "tableResultSettingsMap": {},
     "title": ""
    }
   },
   "outputs": [],
   "source": [
    "%pip freeze | grep databricks"
   ]
  },
  {
   "cell_type": "code",
   "execution_count": 0,
   "metadata": {
    "application/vnd.databricks.v1+cell": {
     "cellMetadata": {
      "byteLimit": 2048000,
      "rowLimit": 10000
     },
     "inputWidgets": {},
     "nuid": "4182c3c3-0a00-48af-8ec3-bea7f88d6a17",
     "showTitle": false,
     "tableResultSettingsMap": {},
     "title": ""
    }
   },
   "outputs": [],
   "source": [
    "# List of input args needed to run the notebook as a job.\n",
    "# Provide them via DB widgets or notebook arguments.\n",
    "\n",
    "# A Unity Catalog containing the model\n",
    "dbutils.widgets.text(\n",
    "    \"uc_catalog\",\n",
    "    \"ai_agent_stacks\",\n",
    "    label=\"Unity Catalog\",\n",
    ")\n",
    "# Name of schema\n",
    "dbutils.widgets.text(\n",
    "    \"schema\",\n",
    "    \"ai_agent_ops\",\n",
    "    label=\"Schema\",\n",
    ")\n",
    "# Name of evaluation table\n",
    "dbutils.widgets.text(\n",
    "    \"eval_table\",\n",
    "    \"databricks_documentation_eval\",\n",
    "    label=\"Evaluation dataset\",\n",
    ")\n",
    "# Name of experiment to register under in mlflow\n",
    "dbutils.widgets.text(\n",
    "    \"experiment\",\n",
    "    \"agent_function_chatbot\",\n",
    "    label=\"Experiment name\",\n",
    ")\n",
    "# Name of model registered in mlflow\n",
    "dbutils.widgets.text(\n",
    "    \"registered_model\",\n",
    "    \"agent_function_chatbot\",\n",
    "    label=\"Registered model name\",\n",
    ")\n",
    "# Model version\n",
    "dbutils.widgets.text(\n",
    "    \"model_version\",\n",
    "    \"1\",\n",
    "    label=\"Model Version\",\n",
    ")"
   ]
  },
  {
   "cell_type": "code",
   "execution_count": 0,
   "metadata": {
    "application/vnd.databricks.v1+cell": {
     "cellMetadata": {
      "byteLimit": 2048000,
      "rowLimit": 10000
     },
     "inputWidgets": {},
     "nuid": "0e1ce588-c91f-46ab-85ee-e9786f37aa75",
     "showTitle": false,
     "tableResultSettingsMap": {},
     "title": ""
    }
   },
   "outputs": [],
   "source": [
    "uc_catalog = dbutils.widgets.get(\"uc_catalog\")\n",
    "schema = dbutils.widgets.get(\"schema\")\n",
    "eval_table = dbutils.widgets.get(\"eval_table\")\n",
    "experiment = dbutils.widgets.get(\"experiment\")\n",
    "registered_model = dbutils.widgets.get(\"registered_model\")\n",
    "model_version = dbutils.widgets.get(\"model_version\")\n",
    "\n",
    "assert uc_catalog != \"\", \"uc_catalog notebook parameter must be specified\"\n",
    "assert schema != \"\", \"schema notebook parameter must be specified\"\n",
    "assert eval_table != \"\", \"eval_table notebook parameter must be specified\"\n",
    "assert experiment != \"\", \"experiment notebook parameter must be specified\"\n",
    "assert registered_model != \"\", \"registered_model notebook parameter must be specified\"\n",
    "assert model_version != \"\", \"model_version notebook parameter must be specified\""
   ]
  },
  {
   "cell_type": "code",
   "execution_count": 0,
   "metadata": {
    "application/vnd.databricks.v1+cell": {
     "cellMetadata": {
      "byteLimit": 2048000,
      "rowLimit": 10000
     },
     "inputWidgets": {},
     "nuid": "c5dd511d-b374-4ed6-83a4-e112b282dbd7",
     "showTitle": false,
     "tableResultSettingsMap": {},
     "title": ""
    }
   },
   "outputs": [],
   "source": [
    "import os\n",
    "\n",
    "notebook_path =  '/Workspace/' + os.path.dirname(dbutils.notebook.entry_point.getDbutils().notebook().getContext().notebookPath().get())\n",
    "%cd $notebook_path\n",
    "%cd ../evaluation"
   ]
  },
  {
   "cell_type": "code",
   "execution_count": 0,
   "metadata": {
    "application/vnd.databricks.v1+cell": {
     "cellMetadata": {
      "byteLimit": 2048000,
      "rowLimit": 10000
     },
     "inputWidgets": {},
     "nuid": "235a2666-ca77-4b17-a2f0-225ef0582cc1",
     "showTitle": false,
     "tableResultSettingsMap": {},
     "title": ""
    }
   },
   "outputs": [],
   "source": [
    "import pandas as pd\n",
    "\n",
    "def get_reference_documentation(catalog, schema, table, spark):\n",
    "    (spark.createDataFrame(pd.read_parquet('https://notebooks.databricks.com/demos/dbdemos-dataset/llm/databricks-documentation/databricks_doc_eval_set.parquet'))\n",
    "    .write.mode('overwrite').saveAsTable(f\"{catalog}.{schema}.{table}\"))\n",
    "\n",
    "    eval_df = spark.read.table(f\"{catalog}.{schema}.{table}\")\n",
    "\n",
    "    return eval_df\n"
   ]
  },
  {
   "cell_type": "code",
   "execution_count": 0,
   "metadata": {
    "application/vnd.databricks.v1+cell": {
     "cellMetadata": {
      "byteLimit": 2048000,
      "rowLimit": 10000
     },
     "inputWidgets": {},
     "nuid": "fcb10bfa-f5e4-452d-a3ec-ba12360b8b51",
     "showTitle": true,
     "tableResultSettingsMap": {},
     "title": "Get Evaluation Dataset"
    }
   },
   "outputs": [],
   "source": [
    "# from evaluation import get_reference_documentation\n",
    "\n",
    "eval_dataset = get_reference_documentation(uc_catalog, schema, eval_table, spark)\n",
    "\n",
    "display(eval_dataset.head(10))"
   ]
  },
  {
   "cell_type": "code",
   "execution_count": 0,
   "metadata": {
    "application/vnd.databricks.v1+cell": {
     "cellMetadata": {
      "byteLimit": 2048000,
      "rowLimit": 10000
     },
     "inputWidgets": {},
     "nuid": "4017aa39-fe37-4931-9bb7-591cb316dc1c",
     "showTitle": true,
     "tableResultSettingsMap": {},
     "title": "Run Evaluation"
    }
   },
   "outputs": [],
   "source": [
    "import databricks.agents\n",
    "import re\n",
    "import mlflow\n",
    "\n",
    "# Workaround for serverless compatibility\n",
    "mlflow.tracking._model_registry.utils._get_registry_uri_from_spark_session = lambda: \"databricks-uc\"\n",
    "\n",
    "# Retrieve model info for run\n",
    "client = mlflow.MlflowClient()\n",
    "\n",
    "model_info = client.get_model_version(f\"{uc_catalog}.{schema}.{registered_model}\", model_version)\n",
    "\n",
    "# Set Experiment\n",
    "pattern = r\"^(.*?)/agent_evaluation\"\n",
    "match = re.match(pattern, notebook_path)\n",
    "if match:\n",
    "    path = match.group(1)\n",
    "else:\n",
    "    path = None\n",
    "\n",
    "# mlflow.set_experiment(f\"{path}/{experiment}\")\n",
    "\n",
    "with mlflow.start_run():\n",
    "    # Evaluate the logged model\n",
    "    eval_results = mlflow.evaluate(\n",
    "        data=eval_dataset.limit(10),\n",
    "        model=f'runs:/{model_info.run_id}/model',\n",
    "        model_type=\"databricks-agent\"\n",
    "    )"
   ]
  }
 ],
 "metadata": {
  "application/vnd.databricks.v1+notebook": {
   "computePreferences": null,
   "dashboards": [],
   "environmentMetadata": {
    "base_environment": "",
    "environment_version": "2"
   },
   "inputWidgetPreferences": null,
   "language": "python",
   "notebookMetadata": {
    "mostRecentlyExecutedCommandWithImplicitDF": {
     "commandId": 4817609661483271,
     "dataframes": [
      "_sqldf"
     ]
    },
    "pythonIndentUnit": 4
   },
   "notebookName": "(Clone) AgentEvaluation.py.tmpl",
   "widgets": {
    "eval_table": {
     "currentValue": "databricks_documentation_eval",
     "nuid": "0ad6eef9-962b-438f-b0cc-683a7954810f",
     "typedWidgetInfo": {
      "autoCreated": false,
      "defaultValue": "databricks_documentation_eval",
      "label": "Evaluation dataset",
      "name": "eval_table",
      "options": {
       "widgetDisplayType": "Text",
       "validationRegex": null
      },
      "parameterDataType": "String"
     },
     "widgetInfo": {
      "widgetType": "text",
      "defaultValue": "databricks_documentation_eval",
      "label": "Evaluation dataset",
      "name": "eval_table",
      "options": {
       "widgetType": "text",
       "autoCreated": null,
       "validationRegex": null
      }
     }
    },
    "experiment": {
     "currentValue": "agent_function_chatbot",
     "nuid": "255fe252-b870-4468-a7c6-9151857d673c",
     "typedWidgetInfo": {
      "autoCreated": false,
      "defaultValue": "agent_function_chatbot",
      "label": "Experiment name",
      "name": "experiment",
      "options": {
       "widgetDisplayType": "Text",
       "validationRegex": null
      },
      "parameterDataType": "String"
     },
     "widgetInfo": {
      "widgetType": "text",
      "defaultValue": "agent_function_chatbot",
      "label": "Experiment name",
      "name": "experiment",
      "options": {
       "widgetType": "text",
       "autoCreated": null,
       "validationRegex": null
      }
     }
    },
    "model_version": {
     "currentValue": "3",
     "nuid": "82ec5416-8360-4f0b-91de-995c9006a7f5",
     "typedWidgetInfo": {
      "autoCreated": false,
      "defaultValue": "1",
      "label": "Model Version",
      "name": "model_version",
      "options": {
       "widgetDisplayType": "Text",
       "validationRegex": null
      },
      "parameterDataType": "String"
     },
     "widgetInfo": {
      "widgetType": "text",
      "defaultValue": "1",
      "label": "Model Version",
      "name": "model_version",
      "options": {
       "widgetType": "text",
       "autoCreated": null,
       "validationRegex": null
      }
     }
    },
    "registered_model": {
     "currentValue": "agent_function_chatbot",
     "nuid": "7d082960-4611-4d30-b8a9-01a2c88308ec",
     "typedWidgetInfo": {
      "autoCreated": false,
      "defaultValue": "agent_function_chatbot",
      "label": "Registered model name",
      "name": "registered_model",
      "options": {
       "widgetDisplayType": "Text",
       "validationRegex": null
      },
      "parameterDataType": "String"
     },
     "widgetInfo": {
      "widgetType": "text",
      "defaultValue": "agent_function_chatbot",
      "label": "Registered model name",
      "name": "registered_model",
      "options": {
       "widgetType": "text",
       "autoCreated": null,
       "validationRegex": null
      }
     }
    },
    "schema": {
     "currentValue": "ai_agent_ops",
     "nuid": "7b16e9c7-3601-47bd-97a6-e83326a00ff1",
     "typedWidgetInfo": {
      "autoCreated": false,
      "defaultValue": "ai_agent_ops",
      "label": "Schema",
      "name": "schema",
      "options": {
       "widgetDisplayType": "Text",
       "validationRegex": null
      },
      "parameterDataType": "String"
     },
     "widgetInfo": {
      "widgetType": "text",
      "defaultValue": "ai_agent_ops",
      "label": "Schema",
      "name": "schema",
      "options": {
       "widgetType": "text",
       "autoCreated": null,
       "validationRegex": null
      }
     }
    },
    "uc_catalog": {
     "currentValue": "llmops_stacks",
     "nuid": "5180073a-393a-45e3-b407-2f5cdb4bbe90",
     "typedWidgetInfo": {
      "autoCreated": false,
      "defaultValue": "ai_agent_stacks",
      "label": "Unity Catalog",
      "name": "uc_catalog",
      "options": {
       "widgetDisplayType": "Text",
       "validationRegex": null
      },
      "parameterDataType": "String"
     },
     "widgetInfo": {
      "widgetType": "text",
      "defaultValue": "ai_agent_stacks",
      "label": "Unity Catalog",
      "name": "uc_catalog",
      "options": {
       "widgetType": "text",
       "autoCreated": null,
       "validationRegex": null
      }
     }
    }
   }
  },
  "language_info": {
   "name": "python"
  }
 },
 "nbformat": 4,
 "nbformat_minor": 0
}
